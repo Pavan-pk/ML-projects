{
  "nbformat": 4,
  "nbformat_minor": 0,
  "metadata": {
    "colab": {
      "name": "project3.ipynb",
      "provenance": []
    },
    "kernelspec": {
      "name": "python3",
      "display_name": "Python 3"
    },
    "language_info": {
      "name": "python"
    },
    "accelerator": "GPU",
    "gpuClass": "standard"
  },
  "cells": [
    {
      "cell_type": "code",
      "source": [
        "import os"
      ],
      "metadata": {
        "id": "qRI-saOrZeo5"
      },
      "execution_count": 1,
      "outputs": []
    },
    {
      "cell_type": "code",
      "source": [
        "os.chdir('/content/drive/MyDrive/Project3')"
      ],
      "metadata": {
        "id": "pxSyQK4CZhmd"
      },
      "execution_count": 2,
      "outputs": []
    },
    {
      "cell_type": "code",
      "execution_count": 3,
      "metadata": {
        "id": "C6C7ApVwV0ct"
      },
      "outputs": [],
      "source": [
        "import scipy.io as io\n",
        "import matplotlib.pyplot as plt\n",
        "import torch\n",
        "import torch.nn.functional as F\n",
        "import numpy as np"
      ]
    },
    {
      "cell_type": "code",
      "source": [
        "# 1. Load Data\n",
        "trX = io.loadmat('SVHN_train_32x32.mat')['X']\n",
        "trY = io.loadmat('SVHN_train_32x32.mat')['y']\n",
        "tsX = io.loadmat('SVHN_test_32x32.mat')['X']\n",
        "tsY = io.loadmat('SVHN_test_32x32.mat')['y']"
      ],
      "metadata": {
        "id": "feceeb7HZGrq"
      },
      "execution_count": 4,
      "outputs": []
    },
    {
      "cell_type": "code",
      "source": [
        "# Visualize few traiing images\n",
        "plt.figure()\n",
        "plt.subplot(221), plt.imshow(trX[0])\n",
        "plt.subplot(222), plt.imshow(trX[255])\n",
        "plt.subplot(223), plt.imshow(trX[645])\n",
        "plt.subplot(224), plt.imshow(trX[2786])"
      ],
      "metadata": {
        "colab": {
          "base_uri": "https://localhost:8080/",
          "height": 304
        },
        "id": "vvBFyaRNaG5r",
        "outputId": "424befab-7d8a-4c08-937b-ee29a30619c9"
      },
      "execution_count": 5,
      "outputs": [
        {
          "output_type": "execute_result",
          "data": {
            "text/plain": [
              "(<matplotlib.axes._subplots.AxesSubplot at 0x7f2a3208ccd0>,\n",
              " <matplotlib.image.AxesImage at 0x7f2a320130d0>)"
            ]
          },
          "metadata": {},
          "execution_count": 5
        },
        {
          "output_type": "display_data",
          "data": {
            "text/plain": [
              "<Figure size 432x288 with 4 Axes>"
            ],
            "image/png": "[encoded data removed]"
          },
          "metadata": {
            "needs_background": "light"
          }
        }
      ]
    },
    {
      "cell_type": "code",
      "source": [
        "# 2. Normalize and Encoding the labels using one-hot vector encoding.\n",
        "# For images maximum value is 255, so we can easily normilize image data\n",
        "# by dividing each pixel value by 255\n",
        "\n",
        "trX = torch.from_numpy(trX/255.0).float()\n",
        "tsX = torch.from_numpy(tsX/255.0).float()\n",
        "trY = torch.from_numpy(trY).long()\n",
        "tsY = torch.from_numpy(tsY).long()\n",
        "trY = F.one_hot(trY).squeeze()\n",
        "tsY = F.one_hot(tsY).squeeze()"
      ],
      "metadata": {
        "id": "_LcXOrIUcpwe"
      },
      "execution_count": 6,
      "outputs": []
    },
    {
      "cell_type": "code",
      "source": [
        "import torch.nn as nn"
      ],
      "metadata": {
        "id": "zCDdLXrxZ7IE"
      },
      "execution_count": 7,
      "outputs": []
    },
    {
      "cell_type": "code",
      "source": [
        "# 3. Model\n",
        "class Net(nn.Module):\n",
        "    def __init__(self):\n",
        "        super().__init__()\n",
        "        self.conv1 = nn.Conv2d(3, 64, 5)\n",
        "        self.pool = nn.MaxPool2d(2, 2)\n",
        "        self.conv2 = nn.Conv2d(64, 64, 5)\n",
        "        self.conv3 = nn.Conv2d(64, 128, 5)\n",
        "        self.fc1 = nn.Linear(128*1*1, 3072)\n",
        "        self.fc2 = nn.Linear(3072, 2048)\n",
        "        self.fc3 = nn.Linear(2048, 10)\n",
        "\n",
        "    def forward(self, x):\n",
        "        # Model as per project requirement\n",
        "        x = self.pool(F.relu(self.conv1(x)))\n",
        "        x = self.pool(F.relu(self.conv2(x)))\n",
        "        x = F.relu(self.conv3(x))\n",
        "        x = torch.flatten(x, 1)\n",
        "        x = F.relu(self.fc1(x))\n",
        "        x = F.relu(self.fc2(x))\n",
        "        x = F.relu(self.fc3(x))\n",
        "        return x\n",
        "net = Net()\n",
        "if torch.cuda.is_available():\n",
        "    net = net.cuda()"
      ],
      "metadata": {
        "id": "Xrbxx3i3azyA"
      },
      "execution_count": 8,
      "outputs": []
    },
    {
      "cell_type": "code",
      "source": [
        "import torch.optim as optim\n",
        "\n",
        "criterion = nn.CrossEntropyLoss()\n",
        "optimizer = optim.SGD(net.parameters(), lr=0.01)"
      ],
      "metadata": {
        "id": "9f-Onm15e9Tr"
      },
      "execution_count": 9,
      "outputs": []
    },
    {
      "cell_type": "code",
      "source": [
        "_, new_labels = trY.max(dim=-1)"
      ],
      "metadata": {
        "id": "y62jQU_g1ImD"
      },
      "execution_count": 10,
      "outputs": []
    },
    {
      "cell_type": "code",
      "source": [
        "from torch.utils.data import Dataset\n",
        "from torchvision import transforms\n",
        "\n",
        "class CustomImageDataset(Dataset):\n",
        "    def __init__(self, img_data, labels):\n",
        "      # From (batch_size, height, width, channel) to\n",
        "      # to (batch_size, channel, height, width) as per crossentropy requirement\n",
        "      self.img_data = img_data.permute(0, 3, 1, 2)\n",
        "      _, self.labels = labels.max(dim=-1)\n",
        "\n",
        "    def __len__(self):\n",
        "        return len(self.labels)\n",
        "\n",
        "    def __getitem__(self, idx):\n",
        "        image = self.img_data[idx]\n",
        "        label = self.labels[idx]\n",
        "        mean, std = image.mean(), image.std()\n",
        "        return image, label"
      ],
      "metadata": {
        "id": "kO1Lad7pfqDz"
      },
      "execution_count": 11,
      "outputs": []
    },
    {
      "cell_type": "code",
      "source": [
        "training_data = CustomImageDataset(trX, trY)\n",
        "test_data = CustomImageDataset(tsX, tsY)"
      ],
      "metadata": {
        "id": "GMFRnyQgi2Nl"
      },
      "execution_count": 12,
      "outputs": []
    },
    {
      "cell_type": "code",
      "source": [
        "from torch.utils.data import DataLoader\n",
        "\n",
        "train_dataloader = DataLoader(training_data, batch_size=64, shuffle=True)\n",
        "test_dataloader = DataLoader(test_data, batch_size=64, shuffle=True)"
      ],
      "metadata": {
        "id": "k8tZtZ6IjGtd"
      },
      "execution_count": 13,
      "outputs": []
    },
    {
      "cell_type": "code",
      "source": [
        "print(f\"Total parameter count of the network is: {sum(p.numel() for p in net.parameters() if p.requires_grad)}\")"
      ],
      "metadata": {
        "colab": {
          "base_uri": "https://localhost:8080/"
        },
        "id": "m5zaBuDW8uet",
        "outputId": "96f6f43b-faa1-4eb0-f44e-1d41b1dcead5"
      },
      "execution_count": 14,
      "outputs": [
        {
          "output_type": "stream",
          "name": "stdout",
          "text": [
            "Total parameter count of the network is: 7022538\n"
          ]
        }
      ]
    },
    {
      "cell_type": "code",
      "source": [
        "training_loss = []\n",
        "testing_loss = []"
      ],
      "metadata": {
        "id": "OlkE4_FAkAWh"
      },
      "execution_count": 15,
      "outputs": []
    },
    {
      "cell_type": "code",
      "source": [
        "# 4. Training and testing\n",
        "# 20 epochs, 64 batch size and learning rate of 0.01\n",
        "for epoch in range(20):\n",
        "    net.train()\n",
        "    train_loss = 0.0\n",
        "    for inputs, labels in train_dataloader:\n",
        "        if torch.cuda.is_available():\n",
        "            inputs, labels = inputs.cuda(), labels.cuda()\n",
        "        optimizer.zero_grad()\n",
        "\n",
        "        outputs = net(inputs)\n",
        "        loss = criterion(outputs, labels)\n",
        "        loss.backward()\n",
        "        optimizer.step()\n",
        "        train_loss += loss.item()\n",
        "    training_loss.append(train_loss/len(train_dataloader))\n",
        "    print(f'Epoch #: {epoch} Training loss: {training_loss[-1]}')\n",
        "    train_loss = 0.0\n",
        "\n",
        "    # Use model in eval mode to get test validation error for the epoch\n",
        "    net.eval()\n",
        "    test_loss = 0.0\n",
        "    for inputs, labels in test_dataloader:\n",
        "        if torch.cuda.is_available():\n",
        "            inputs, labels = inputs.cuda(), labels.cuda()\n",
        "        outputs = net(inputs)\n",
        "        loss = criterion(outputs, labels)\n",
        "        test_loss += loss.item()\n",
        "    testing_loss.append(test_loss/len(test_dataloader))\n",
        "    print(f'Epoch #: {epoch} Testing loss: {testing_loss[-1]}')\n",
        "\n",
        "print('Finished Training')"
      ],
      "metadata": {
        "colab": {
          "base_uri": "https://localhost:8080/"
        },
        "id": "Z-HQoPvrjMXU",
        "outputId": "b419b4f7-144f-4f0f-f43c-1f8241271cd8"
      },
      "execution_count": 16,
      "outputs": [
        {
          "output_type": "stream",
          "name": "stdout",
          "text": [
            "Epoch #: 0 Training loss: 2.2705063186878722\n",
            "Epoch #: 0 Testing loss: 2.2615114125338467\n",
            "Epoch #: 1 Training loss: 2.2646360965795393\n",
            "Epoch #: 1 Testing loss: 2.244537267403755\n",
            "Epoch #: 2 Training loss: 2.240594149260542\n",
            "Epoch #: 2 Testing loss: 2.222876955894639\n",
            "Epoch #: 3 Training loss: 2.2172273490106176\n",
            "Epoch #: 3 Testing loss: 2.1645282562593278\n",
            "Epoch #: 4 Training loss: 2.0423811522113184\n",
            "Epoch #: 4 Testing loss: 1.8546946461722071\n",
            "Epoch #: 5 Training loss: 1.589823594572242\n",
            "Epoch #: 5 Testing loss: 1.263424589827254\n",
            "Epoch #: 6 Training loss: 0.9861902918357516\n",
            "Epoch #: 6 Testing loss: 0.8415011110411229\n",
            "Epoch #: 7 Training loss: 0.743491046553616\n",
            "Epoch #: 7 Testing loss: 0.7261635865421201\n",
            "Epoch #: 8 Training loss: 0.6477588367514214\n",
            "Epoch #: 8 Testing loss: 0.6764403728068021\n",
            "Epoch #: 9 Training loss: 0.593968991577365\n",
            "Epoch #: 9 Testing loss: 0.6410184194326987\n",
            "Epoch #: 10 Training loss: 0.5577519727195714\n",
            "Epoch #: 10 Testing loss: 0.6012728443456223\n",
            "Epoch #: 11 Training loss: 0.5304107326737658\n",
            "Epoch #: 11 Testing loss: 0.5742801177413809\n",
            "Epoch #: 12 Training loss: 0.5074495124634697\n",
            "Epoch #: 12 Testing loss: 0.5690430954867558\n",
            "Epoch #: 13 Training loss: 0.4890608282198552\n",
            "Epoch #: 13 Testing loss: 0.5573327077474876\n",
            "Epoch #: 14 Training loss: 0.4717499937683214\n",
            "Epoch #: 14 Testing loss: 0.5492617823641189\n",
            "Epoch #: 15 Training loss: 0.4576269932839548\n",
            "Epoch #: 15 Testing loss: 0.5454565884513409\n",
            "Epoch #: 16 Training loss: 0.44542845434236733\n",
            "Epoch #: 16 Testing loss: 0.5241277320379121\n",
            "Epoch #: 17 Training loss: 0.4331029410315393\n",
            "Epoch #: 17 Testing loss: 0.5386896765715367\n",
            "Epoch #: 18 Training loss: 0.4241291876312947\n",
            "Epoch #: 18 Testing loss: 0.5213710801900165\n",
            "Epoch #: 19 Training loss: 0.4121945124070717\n",
            "Epoch #: 19 Testing loss: 0.5194819360165983\n",
            "Finished Training\n"
          ]
        }
      ]
    },
    {
      "cell_type": "code",
      "source": [
        "plt.plot(training_loss, label=\"Training loss\")\n",
        "plt.plot(testing_loss, label=\"Testing loss\")\n",
        "plt.legend()\n",
        "plt.title(\"Epoch # vs losses\")\n",
        "plt.show()"
      ],
      "metadata": {
        "colab": {
          "base_uri": "https://localhost:8080/",
          "height": 281
        },
        "id": "6ZPuOdww-wRi",
        "outputId": "1562f9f7-ff7b-484f-dca4-58001c42a5c0"
      },
      "execution_count": 17,
      "outputs": [
        {
          "output_type": "display_data",
          "data": {
            "text/plain": [
              "<Figure size 432x288 with 1 Axes>"
            ],
            "image/png": "[encoded data removed]"
          },
          "metadata": {
            "needs_background": "light"
          }
        }
      ]
    },
    {
      "cell_type": "code",
      "source": [
        "# Prediction for accuracy\n",
        "total = 0\n",
        "correct = 0\n",
        "with torch.no_grad():\n",
        "    for inputs, labels in test_dataloader:\n",
        "        if torch.cuda.is_available():\n",
        "            inputs, labels = inputs.cuda(), labels.cuda()\n",
        "        outputs = net(inputs)\n",
        "        _, predicted = torch.max(outputs.data, 1)\n",
        "        total += labels.size(0)\n",
        "        correct += (predicted == labels).sum().item()"
      ],
      "metadata": {
        "id": "VmWxb6vFlrEN"
      },
      "execution_count": 18,
      "outputs": []
    },
    {
      "cell_type": "code",
      "source": [
        "print(f'Accuracy of training data is: {(correct/total)*100}')"
      ],
      "metadata": {
        "colab": {
          "base_uri": "https://localhost:8080/"
        },
        "id": "8CksBeT_8fm4",
        "outputId": "7a1105aa-016f-4cbc-dbcc-53c931339936"
      },
      "execution_count": 19,
      "outputs": [
        {
          "output_type": "stream",
          "name": "stdout",
          "text": [
            "Accuracy of training data is: 87.96097111247695\n"
          ]
        }
      ]
    },
    {
      "cell_type": "code",
      "source": [
        "\n"
      ],
      "metadata": {
        "id": "1qVSpcNGzdUx"
      },
      "execution_count": 19,
      "outputs": []
    }
  ]
}